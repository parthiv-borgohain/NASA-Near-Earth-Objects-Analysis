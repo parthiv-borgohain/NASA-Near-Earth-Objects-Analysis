{
 "cells": [
  {
   "cell_type": "code",
   "execution_count": 149,
   "id": "324f58c0",
   "metadata": {},
   "outputs": [
    {
     "name": "stdout",
     "output_type": "stream",
     "text": [
      "%pylab is deprecated, use %matplotlib inline and import the required libraries.\n",
      "Populating the interactive namespace from numpy and matplotlib\n"
     ]
    }
   ],
   "source": [
    "from pandas import Series, DataFrame\n",
    "import pandas as pd\n",
    "from patsy import dmatrices\n",
    "import seaborn as sns\n",
    "%pylab inline\n",
    "import warnings\n",
    "warnings.filterwarnings('ignore')"
   ]
  },
  {
   "cell_type": "code",
   "execution_count": 150,
   "id": "d59fa8c8",
   "metadata": {},
   "outputs": [],
   "source": [
    "#Importing tree and ensemble models\n",
    "from sklearn import tree\n",
    "from sklearn.ensemble import BaggingClassifier, RandomForestClassifier, GradientBoostingClassifier\n",
    "from sklearn.metrics import f1_score"
   ]
  },
  {
   "cell_type": "code",
   "execution_count": 151,
   "id": "346e8f60",
   "metadata": {},
   "outputs": [
    {
     "data": {
      "text/html": [
       "<div>\n",
       "<style scoped>\n",
       "    .dataframe tbody tr th:only-of-type {\n",
       "        vertical-align: middle;\n",
       "    }\n",
       "\n",
       "    .dataframe tbody tr th {\n",
       "        vertical-align: top;\n",
       "    }\n",
       "\n",
       "    .dataframe thead th {\n",
       "        text-align: right;\n",
       "    }\n",
       "</style>\n",
       "<table border=\"1\" class=\"dataframe\">\n",
       "  <thead>\n",
       "    <tr style=\"text-align: right;\">\n",
       "      <th></th>\n",
       "      <th>id</th>\n",
       "      <th>name</th>\n",
       "      <th>est_diameter_min</th>\n",
       "      <th>est_diameter_max</th>\n",
       "      <th>relative_velocity</th>\n",
       "      <th>miss_distance</th>\n",
       "      <th>orbiting_body</th>\n",
       "      <th>sentry_object</th>\n",
       "      <th>absolute_magnitude</th>\n",
       "      <th>hazardous</th>\n",
       "    </tr>\n",
       "  </thead>\n",
       "  <tbody>\n",
       "    <tr>\n",
       "      <th>0</th>\n",
       "      <td>2162635</td>\n",
       "      <td>162635 (2000 SS164)</td>\n",
       "      <td>1.198271</td>\n",
       "      <td>2.679415</td>\n",
       "      <td>13569.249224</td>\n",
       "      <td>5.483974e+07</td>\n",
       "      <td>Earth</td>\n",
       "      <td>False</td>\n",
       "      <td>16.73</td>\n",
       "      <td>False</td>\n",
       "    </tr>\n",
       "    <tr>\n",
       "      <th>1</th>\n",
       "      <td>2277475</td>\n",
       "      <td>277475 (2005 WK4)</td>\n",
       "      <td>0.265800</td>\n",
       "      <td>0.594347</td>\n",
       "      <td>73588.726663</td>\n",
       "      <td>6.143813e+07</td>\n",
       "      <td>Earth</td>\n",
       "      <td>False</td>\n",
       "      <td>20.00</td>\n",
       "      <td>True</td>\n",
       "    </tr>\n",
       "    <tr>\n",
       "      <th>2</th>\n",
       "      <td>2512244</td>\n",
       "      <td>512244 (2015 YE18)</td>\n",
       "      <td>0.722030</td>\n",
       "      <td>1.614507</td>\n",
       "      <td>114258.692129</td>\n",
       "      <td>4.979872e+07</td>\n",
       "      <td>Earth</td>\n",
       "      <td>False</td>\n",
       "      <td>17.83</td>\n",
       "      <td>False</td>\n",
       "    </tr>\n",
       "    <tr>\n",
       "      <th>3</th>\n",
       "      <td>3596030</td>\n",
       "      <td>(2012 BV13)</td>\n",
       "      <td>0.096506</td>\n",
       "      <td>0.215794</td>\n",
       "      <td>24764.303138</td>\n",
       "      <td>2.543497e+07</td>\n",
       "      <td>Earth</td>\n",
       "      <td>False</td>\n",
       "      <td>22.20</td>\n",
       "      <td>False</td>\n",
       "    </tr>\n",
       "    <tr>\n",
       "      <th>4</th>\n",
       "      <td>3667127</td>\n",
       "      <td>(2014 GE35)</td>\n",
       "      <td>0.255009</td>\n",
       "      <td>0.570217</td>\n",
       "      <td>42737.733765</td>\n",
       "      <td>4.627557e+07</td>\n",
       "      <td>Earth</td>\n",
       "      <td>False</td>\n",
       "      <td>20.09</td>\n",
       "      <td>True</td>\n",
       "    </tr>\n",
       "  </tbody>\n",
       "</table>\n",
       "</div>"
      ],
      "text/plain": [
       "        id                 name  est_diameter_min  est_diameter_max  \\\n",
       "0  2162635  162635 (2000 SS164)          1.198271          2.679415   \n",
       "1  2277475    277475 (2005 WK4)          0.265800          0.594347   \n",
       "2  2512244   512244 (2015 YE18)          0.722030          1.614507   \n",
       "3  3596030          (2012 BV13)          0.096506          0.215794   \n",
       "4  3667127          (2014 GE35)          0.255009          0.570217   \n",
       "\n",
       "   relative_velocity  miss_distance orbiting_body  sentry_object  \\\n",
       "0       13569.249224   5.483974e+07         Earth          False   \n",
       "1       73588.726663   6.143813e+07         Earth          False   \n",
       "2      114258.692129   4.979872e+07         Earth          False   \n",
       "3       24764.303138   2.543497e+07         Earth          False   \n",
       "4       42737.733765   4.627557e+07         Earth          False   \n",
       "\n",
       "   absolute_magnitude  hazardous  \n",
       "0               16.73      False  \n",
       "1               20.00       True  \n",
       "2               17.83      False  \n",
       "3               22.20      False  \n",
       "4               20.09       True  "
      ]
     },
     "execution_count": 151,
     "metadata": {},
     "output_type": "execute_result"
    }
   ],
   "source": [
    "#Reading the dataset\n",
    "df=pd.read_csv('C:\\\\Users\\\\parth\\\\OneDrive\\\\Documents\\\\UT Austin\\\\DS Programming\\\\Project\\\\NASA\\\\dataset\\\\neo_v2.csv')\n",
    "df.head()"
   ]
  },
  {
   "cell_type": "code",
   "execution_count": 152,
   "id": "c4830ee0",
   "metadata": {},
   "outputs": [
    {
     "name": "stdout",
     "output_type": "stream",
     "text": [
      "Baseline Accuracy is approx 0.90268175613193\n"
     ]
    }
   ],
   "source": [
    "No_of_true=len(df[df['hazardous']==True])\n",
    "No_of_false=len(df[df['hazardous']==False])\n",
    "\n",
    "print('Baseline Accuracy is approx',(No_of_false)/(No_of_true+No_of_false))"
   ]
  },
  {
   "cell_type": "code",
   "execution_count": 153,
   "id": "88d0a24e",
   "metadata": {},
   "outputs": [
    {
     "data": {
      "text/plain": [
       "id                    0\n",
       "name                  0\n",
       "est_diameter_min      0\n",
       "est_diameter_max      0\n",
       "relative_velocity     0\n",
       "miss_distance         0\n",
       "orbiting_body         0\n",
       "sentry_object         0\n",
       "absolute_magnitude    0\n",
       "hazardous             0\n",
       "dtype: int64"
      ]
     },
     "execution_count": 153,
     "metadata": {},
     "output_type": "execute_result"
    }
   ],
   "source": [
    "#First we check for null values\n",
    "df.isnull().sum()"
   ]
  },
  {
   "cell_type": "code",
   "execution_count": 154,
   "id": "c74bdae6",
   "metadata": {},
   "outputs": [
    {
     "name": "stdout",
     "output_type": "stream",
     "text": [
      "Earth    90836\n",
      "Name: orbiting_body, dtype: int64\n",
      "False    90836\n",
      "Name: sentry_object, dtype: int64\n"
     ]
    }
   ],
   "source": [
    "#So there are no missing values\n",
    "#Now we convert the target variable to 0,1\n",
    "def convert_to_int(X):\n",
    "    return int(X)\n",
    "df['hazardous']=df['hazardous'].map(convert_to_int)\n",
    "#Now we check the columns orbiting_body and sentry_object\n",
    "print(df['orbiting_body'].value_counts())\n",
    "print(df['sentry_object'].value_counts())"
   ]
  },
  {
   "cell_type": "code",
   "execution_count": 155,
   "id": "89833344",
   "metadata": {},
   "outputs": [
    {
     "data": {
      "image/png": "[encoded data removed]",
      "text/plain": [
       "<Figure size 432x288 with 2 Axes>"
      ]
     },
     "metadata": {
      "needs_background": "light"
     },
     "output_type": "display_data"
    }
   ],
   "source": [
    "sns.heatmap(df.corr(), annot=True, cmap='coolwarm')\n",
    "plt.suptitle('Bivariate Correlations')\n",
    "plt.show()\n"
   ]
  },
  {
   "cell_type": "code",
   "execution_count": 156,
   "id": "e1f5483e",
   "metadata": {},
   "outputs": [
    {
     "data": {
      "text/html": [
       "<div>\n",
       "<style scoped>\n",
       "    .dataframe tbody tr th:only-of-type {\n",
       "        vertical-align: middle;\n",
       "    }\n",
       "\n",
       "    .dataframe tbody tr th {\n",
       "        vertical-align: top;\n",
       "    }\n",
       "\n",
       "    .dataframe thead th {\n",
       "        text-align: right;\n",
       "    }\n",
       "</style>\n",
       "<table border=\"1\" class=\"dataframe\">\n",
       "  <thead>\n",
       "    <tr style=\"text-align: right;\">\n",
       "      <th></th>\n",
       "      <th>est_diameter_max</th>\n",
       "      <th>relative_velocity</th>\n",
       "      <th>miss_distance</th>\n",
       "      <th>absolute_magnitude</th>\n",
       "      <th>hazardous</th>\n",
       "    </tr>\n",
       "  </thead>\n",
       "  <tbody>\n",
       "    <tr>\n",
       "      <th>0</th>\n",
       "      <td>2.679415</td>\n",
       "      <td>13569.249224</td>\n",
       "      <td>5.483974e+07</td>\n",
       "      <td>16.73</td>\n",
       "      <td>0</td>\n",
       "    </tr>\n",
       "    <tr>\n",
       "      <th>1</th>\n",
       "      <td>0.594347</td>\n",
       "      <td>73588.726663</td>\n",
       "      <td>6.143813e+07</td>\n",
       "      <td>20.00</td>\n",
       "      <td>1</td>\n",
       "    </tr>\n",
       "    <tr>\n",
       "      <th>2</th>\n",
       "      <td>1.614507</td>\n",
       "      <td>114258.692129</td>\n",
       "      <td>4.979872e+07</td>\n",
       "      <td>17.83</td>\n",
       "      <td>0</td>\n",
       "    </tr>\n",
       "    <tr>\n",
       "      <th>3</th>\n",
       "      <td>0.215794</td>\n",
       "      <td>24764.303138</td>\n",
       "      <td>2.543497e+07</td>\n",
       "      <td>22.20</td>\n",
       "      <td>0</td>\n",
       "    </tr>\n",
       "    <tr>\n",
       "      <th>4</th>\n",
       "      <td>0.570217</td>\n",
       "      <td>42737.733765</td>\n",
       "      <td>4.627557e+07</td>\n",
       "      <td>20.09</td>\n",
       "      <td>1</td>\n",
       "    </tr>\n",
       "  </tbody>\n",
       "</table>\n",
       "</div>"
      ],
      "text/plain": [
       "   est_diameter_max  relative_velocity  miss_distance  absolute_magnitude  \\\n",
       "0          2.679415       13569.249224   5.483974e+07               16.73   \n",
       "1          0.594347       73588.726663   6.143813e+07               20.00   \n",
       "2          1.614507      114258.692129   4.979872e+07               17.83   \n",
       "3          0.215794       24764.303138   2.543497e+07               22.20   \n",
       "4          0.570217       42737.733765   4.627557e+07               20.09   \n",
       "\n",
       "   hazardous  \n",
       "0          0  \n",
       "1          1  \n",
       "2          0  \n",
       "3          0  \n",
       "4          1  "
      ]
     },
     "execution_count": 156,
     "metadata": {},
     "output_type": "execute_result"
    }
   ],
   "source": [
    "#Clearly, from the above heatmap, est_diameter_min and est_diameter_max are perfectly correlated. So, we can drop one of them\n",
    "df=df.drop(['est_diameter_min'],axis=1)\n",
    "\n",
    "#These two columns clearly have only one value throughout. So we can drop them.\n",
    "df=df.drop(['sentry_object','orbiting_body'],axis=1)\n",
    "#Clearly, we can drop the first two columns as well (id and name of asteroid) as they are not useful for\n",
    "#making predictions\n",
    "df=df.drop(['id','name'],axis=1)\n",
    "df.head()"
   ]
  },
  {
   "cell_type": "code",
   "execution_count": 157,
   "id": "5671e64c",
   "metadata": {},
   "outputs": [],
   "source": [
    "#Now we can fit a tree to this dataset.\n",
    "Y, X = dmatrices('hazardous ~ 0 + est_diameter_max + relative_velocity + miss_distance + absolute_magnitude', df, return_type='dataframe')\n",
    "y = Y['hazardous'].values"
   ]
  },
  {
   "cell_type": "code",
   "execution_count": 158,
   "id": "7a8dc848",
   "metadata": {},
   "outputs": [],
   "source": [
    "#Creating Training and Test Sets (70-30 split)\n",
    "from sklearn.model_selection import train_test_split\n",
    "X_train, X_test, y_train, y_test = train_test_split(X, y,\n",
    "                                                    test_size=0.3,stratify=y,shuffle=True,\n",
    "                                                    random_state=1)"
   ]
  },
  {
   "cell_type": "code",
   "execution_count": 159,
   "id": "5767d0de",
   "metadata": {},
   "outputs": [],
   "source": [
    "# Setting up all the ensemble models\n",
    "models = {}\n",
    "models['Decision Tree'] = \\\n",
    "    tree.DecisionTreeClassifier(criterion='entropy')\n",
    "\n",
    "models['Bagging'] = \\\n",
    "    BaggingClassifier(\n",
    "        tree.DecisionTreeClassifier(criterion='entropy'),\n",
    "        random_state=1)\n",
    "\n",
    "models['Random Forest'] = \\\n",
    "    RandomForestClassifier(n_estimators=2,\n",
    "                           random_state=1)\n",
    "\n",
    "models['Gradient Boosting'] = \\\n",
    "    GradientBoostingClassifier(n_estimators=200,\n",
    "                               max_depth=4,\n",
    "                               random_state=1)"
   ]
  },
  {
   "cell_type": "code",
   "execution_count": 160,
   "id": "071c0a58",
   "metadata": {},
   "outputs": [
    {
     "name": "stdout",
     "output_type": "stream",
     "text": [
      "Fitting Decision Tree\n",
      "Fitting Bagging\n",
      "Fitting Random Forest\n",
      "Fitting Gradient Boosting\n"
     ]
    }
   ],
   "source": [
    "#Fitting all the models to our training data\n",
    "for name, model in models.items():\n",
    "    print('Fitting', name)\n",
    "    model.fit(X_train, y_train)\n"
   ]
  },
  {
   "cell_type": "code",
   "execution_count": 161,
   "id": "80b4ed45",
   "metadata": {},
   "outputs": [
    {
     "data": {
      "text/html": [
       "<div>\n",
       "<style scoped>\n",
       "    .dataframe tbody tr th:only-of-type {\n",
       "        vertical-align: middle;\n",
       "    }\n",
       "\n",
       "    .dataframe tbody tr th {\n",
       "        vertical-align: top;\n",
       "    }\n",
       "\n",
       "    .dataframe thead th {\n",
       "        text-align: right;\n",
       "    }\n",
       "</style>\n",
       "<table border=\"1\" class=\"dataframe\">\n",
       "  <thead>\n",
       "    <tr style=\"text-align: right;\">\n",
       "      <th></th>\n",
       "      <th>Training Accuracy</th>\n",
       "      <th>Test Accuracy</th>\n",
       "      <th>Train F1 Score</th>\n",
       "      <th>Test F1 Score</th>\n",
       "    </tr>\n",
       "  </thead>\n",
       "  <tbody>\n",
       "    <tr>\n",
       "      <th>Decision Tree</th>\n",
       "      <td>1.000000</td>\n",
       "      <td>0.893765</td>\n",
       "      <td>1.000000</td>\n",
       "      <td>0.461996</td>\n",
       "    </tr>\n",
       "    <tr>\n",
       "      <th>Bagging</th>\n",
       "      <td>0.991570</td>\n",
       "      <td>0.912150</td>\n",
       "      <td>0.955003</td>\n",
       "      <td>0.430813</td>\n",
       "    </tr>\n",
       "    <tr>\n",
       "      <th>Random Forest</th>\n",
       "      <td>0.962507</td>\n",
       "      <td>0.908444</td>\n",
       "      <td>0.771033</td>\n",
       "      <td>0.375469</td>\n",
       "    </tr>\n",
       "    <tr>\n",
       "      <th>Gradient Boosting</th>\n",
       "      <td>0.922120</td>\n",
       "      <td>0.915232</td>\n",
       "      <td>0.379760</td>\n",
       "      <td>0.325350</td>\n",
       "    </tr>\n",
       "  </tbody>\n",
       "</table>\n",
       "</div>"
      ],
      "text/plain": [
       "                   Training Accuracy  Test Accuracy  Train F1 Score  \\\n",
       "Decision Tree               1.000000       0.893765        1.000000   \n",
       "Bagging                     0.991570       0.912150        0.955003   \n",
       "Random Forest               0.962507       0.908444        0.771033   \n",
       "Gradient Boosting           0.922120       0.915232        0.379760   \n",
       "\n",
       "                   Test F1 Score  \n",
       "Decision Tree           0.461996  \n",
       "Bagging                 0.430813  \n",
       "Random Forest           0.375469  \n",
       "Gradient Boosting       0.325350  "
      ]
     },
     "execution_count": 161,
     "metadata": {},
     "output_type": "execute_result"
    }
   ],
   "source": [
    "#Accuracy Scores\n",
    "from sklearn import metrics\n",
    "\n",
    "accuracy_train = {}\n",
    "accuracy_test = {}\n",
    "f1_train = {}\n",
    "f1_test = {}\n",
    "for name, model in models.items():\n",
    "    prediction_train = model.predict(X_train)\n",
    "    accuracy_train[name] = metrics.accuracy_score(y_train, prediction_train)\n",
    "    prediction_test = model.predict(X_test)\n",
    "    accuracy_test[name] = metrics.accuracy_score(y_test, prediction_test)\n",
    "    f1_train[name] = f1_score(y_train, prediction_train)\n",
    "    f1_test[name] = f1_score(y_test, prediction_test)\n",
    "    \n",
    "df = DataFrame({'Training Accuracy':accuracy_train, 'Test Accuracy':accuracy_test, 'Train F1 Score':f1_train, 'Test F1 Score':f1_test})\n",
    "df\n"
   ]
  },
  {
   "cell_type": "code",
   "execution_count": 163,
   "id": "373e7eb2",
   "metadata": {},
   "outputs": [
    {
     "data": {
      "text/plain": [
       "Text(0, 0.5, 'Test accuracy')"
      ]
     },
     "execution_count": 163,
     "metadata": {},
     "output_type": "execute_result"
    },
    {
     "data": {
      "image/png": "[encoded data removed]",
      "text/plain": [
       "<Figure size 432x288 with 1 Axes>"
      ]
     },
     "metadata": {
      "needs_background": "light"
     },
     "output_type": "display_data"
    }
   ],
   "source": [
    "#All of them are overfitting except Gradient Boosting. Both RF and Boosting give similar results for test data\n",
    "#Best Test F1 Score is for Gradient Boosting\n",
    "\n",
    "#Let us try to find the best value for no of trees in Gradient Boosting\n",
    "scores = {}\n",
    "for num_trees in [50, 100, 200, 300, 400,500]:\n",
    "    model = GradientBoostingClassifier(n_estimators=num_trees,\n",
    "                                       max_depth=2,\n",
    "                                       random_state=1)\n",
    "    model.fit(X_train, y_train)\n",
    "    prediction_test = model.predict(X_test)\n",
    "    accuracy_test = metrics.accuracy_score(y_test, prediction_test)\n",
    "    scores[num_trees] = accuracy_test\n",
    "Series(scores).sort_index().plot()\n",
    "xlabel('Number of trees in ensemble')\n",
    "ylabel('Test accuracy')\n"
   ]
  },
  {
   "cell_type": "code",
   "execution_count": 164,
   "id": "94f65d19",
   "metadata": {},
   "outputs": [
    {
     "data": {
      "text/plain": [
       "Text(0, 0.5, 'Test accuracy')"
      ]
     },
     "execution_count": 164,
     "metadata": {},
     "output_type": "execute_result"
    },
    {
     "data": {
      "image/png": "[encoded data removed]",
      "text/plain": [
       "<Figure size 432x288 with 1 Axes>"
      ]
     },
     "metadata": {
      "needs_background": "light"
     },
     "output_type": "display_data"
    }
   ],
   "source": [
    "#So,best value for no of trees=500 although the difference is not too much.\n",
    "#Now checking for depth of trees-\n",
    "scores = {}\n",
    "for depth in range(1, 11):\n",
    "    model = GradientBoostingClassifier(n_estimators=500,\n",
    "                                       max_depth=depth,\n",
    "                                       random_state=1)\n",
    "    model.fit(X_train, y_train)\n",
    "    prediction_test = model.predict(X_test)\n",
    "    accuracy_test = metrics.accuracy_score(y_test, prediction_test)\n",
    "    scores[depth] = accuracy_test\n",
    "Series(scores).sort_index().plot()\n",
    "xlabel('Depth of trees in ensemble')\n",
    "ylabel('Test accuracy')\n"
   ]
  },
  {
   "cell_type": "code",
   "execution_count": 165,
   "id": "fd100cc4",
   "metadata": {},
   "outputs": [
    {
     "data": {
      "text/plain": [
       "Text(0, 0.5, 'Test accuracy')"
      ]
     },
     "execution_count": 165,
     "metadata": {},
     "output_type": "execute_result"
    },
    {
     "data": {
      "image/png": "[encoded data removed]",
      "text/plain": [
       "<Figure size 432x288 with 1 Axes>"
      ]
     },
     "metadata": {
      "needs_background": "light"
     },
     "output_type": "display_data"
    }
   ],
   "source": [
    "#So, We can try maxdepth=9 and no. of trees = 500 for Gradient Boosting.\n",
    "\n",
    "#Similarly, let us try no. of predictors for Random Forest\n",
    "scores = {}\n",
    "for mtry in range(1, 5):\n",
    "    rf_mtry_model = RandomForestClassifier(n_estimators=mtry,random_state=1)\n",
    "    rf_mtry_model.fit(X_train, y_train)\n",
    "    prediction_test = rf_mtry_model.predict(X_test)\n",
    "    accuracy_test = metrics.accuracy_score(y_test, prediction_test)\n",
    "    scores[mtry] = accuracy_test\n",
    "Series(scores).sort_index().plot()\n",
    "xlabel('No. of Predictor Variables')\n",
    "ylabel('Test accuracy')"
   ]
  },
  {
   "cell_type": "code",
   "execution_count": 166,
   "id": "c795abdc",
   "metadata": {},
   "outputs": [],
   "source": [
    "#So, for Random Forest, we could try mtry=4\n",
    "# Setting up all the ensemble models now\n",
    "models = {}\n",
    "models['Decision Tree'] = \\\n",
    "    tree.DecisionTreeClassifier(criterion='entropy')\n",
    "\n",
    "models['Bagging'] = \\\n",
    "    BaggingClassifier(\n",
    "        tree.DecisionTreeClassifier(criterion='entropy'),\n",
    "        random_state=1)\n",
    "\n",
    "models['Random Forest'] = \\\n",
    "    RandomForestClassifier(n_estimators=4,\n",
    "                           random_state=1)\n",
    "\n",
    "models['Gradient Boosting'] = \\\n",
    "    GradientBoostingClassifier(n_estimators=500,\n",
    "                               max_depth=9,\n",
    "                               random_state=1)"
   ]
  },
  {
   "cell_type": "code",
   "execution_count": 167,
   "id": "ee9deb43",
   "metadata": {},
   "outputs": [
    {
     "name": "stdout",
     "output_type": "stream",
     "text": [
      "Fitting Decision Tree\n",
      "Fitting Bagging\n",
      "Fitting Random Forest\n",
      "Fitting Gradient Boosting\n"
     ]
    }
   ],
   "source": [
    "#Now fitting all these models into training data\n",
    "#Fitting all the models to our training data\n",
    "for name, model in models.items():\n",
    "    print('Fitting', name)\n",
    "    model.fit(X_train, y_train)\n"
   ]
  },
  {
   "cell_type": "code",
   "execution_count": 168,
   "id": "33d01802",
   "metadata": {},
   "outputs": [
    {
     "data": {
      "text/html": [
       "<div>\n",
       "<style scoped>\n",
       "    .dataframe tbody tr th:only-of-type {\n",
       "        vertical-align: middle;\n",
       "    }\n",
       "\n",
       "    .dataframe tbody tr th {\n",
       "        vertical-align: top;\n",
       "    }\n",
       "\n",
       "    .dataframe thead th {\n",
       "        text-align: right;\n",
       "    }\n",
       "</style>\n",
       "<table border=\"1\" class=\"dataframe\">\n",
       "  <thead>\n",
       "    <tr style=\"text-align: right;\">\n",
       "      <th></th>\n",
       "      <th>Training Accuracy</th>\n",
       "      <th>Test Accuracy</th>\n",
       "      <th>Train F1 Score</th>\n",
       "      <th>Test F1 Score</th>\n",
       "    </tr>\n",
       "  </thead>\n",
       "  <tbody>\n",
       "    <tr>\n",
       "      <th>Decision Tree</th>\n",
       "      <td>1.000000</td>\n",
       "      <td>0.892701</td>\n",
       "      <td>1.000000</td>\n",
       "      <td>0.459519</td>\n",
       "    </tr>\n",
       "    <tr>\n",
       "      <th>Bagging</th>\n",
       "      <td>0.991570</td>\n",
       "      <td>0.912150</td>\n",
       "      <td>0.955003</td>\n",
       "      <td>0.430813</td>\n",
       "    </tr>\n",
       "    <tr>\n",
       "      <th>Random Forest</th>\n",
       "      <td>0.977888</td>\n",
       "      <td>0.910022</td>\n",
       "      <td>0.874911</td>\n",
       "      <td>0.413678</td>\n",
       "    </tr>\n",
       "    <tr>\n",
       "      <th>Gradient Boosting</th>\n",
       "      <td>0.986978</td>\n",
       "      <td>0.920150</td>\n",
       "      <td>0.928448</td>\n",
       "      <td>0.480668</td>\n",
       "    </tr>\n",
       "  </tbody>\n",
       "</table>\n",
       "</div>"
      ],
      "text/plain": [
       "                   Training Accuracy  Test Accuracy  Train F1 Score  \\\n",
       "Decision Tree               1.000000       0.892701        1.000000   \n",
       "Bagging                     0.991570       0.912150        0.955003   \n",
       "Random Forest               0.977888       0.910022        0.874911   \n",
       "Gradient Boosting           0.986978       0.920150        0.928448   \n",
       "\n",
       "                   Test F1 Score  \n",
       "Decision Tree           0.459519  \n",
       "Bagging                 0.430813  \n",
       "Random Forest           0.413678  \n",
       "Gradient Boosting       0.480668  "
      ]
     },
     "execution_count": 168,
     "metadata": {},
     "output_type": "execute_result"
    }
   ],
   "source": [
    "#Accuracy Scores\n",
    "from sklearn import metrics\n",
    "\n",
    "accuracy_train = {}\n",
    "accuracy_test = {}\n",
    "f1_train = {}\n",
    "f1_test = {}\n",
    "for name, model in models.items():\n",
    "    prediction_train = model.predict(X_train)\n",
    "    accuracy_train[name] = metrics.accuracy_score(y_train, prediction_train)\n",
    "    prediction_test = model.predict(X_test)\n",
    "    accuracy_test[name] = metrics.accuracy_score(y_test, prediction_test)\n",
    "    f1_train[name] = f1_score(y_train, prediction_train)\n",
    "    f1_test[name] = f1_score(y_test, prediction_test)\n",
    "    \n",
    "df = DataFrame({'Training Accuracy':accuracy_train, 'Test Accuracy':accuracy_test, 'Train F1 Score':f1_train, 'Test F1 Score':f1_test})\n",
    "df\n"
   ]
  },
  {
   "cell_type": "code",
   "execution_count": 129,
   "id": "bdd6c524",
   "metadata": {},
   "outputs": [
    {
     "data": {
      "text/plain": [
       "array([[24068,   531],\n",
       "       [ 1645,  1007]], dtype=int64)"
      ]
     },
     "execution_count": 129,
     "metadata": {},
     "output_type": "execute_result"
    }
   ],
   "source": [
    "#So, using Gradient Boosting we get Test Accuracy of 0.920150 which is better than baseline accuracy of 0.90\n",
    "\n",
    "prediction_test_best_model_GB=model.predict(X_test)\n",
    "accuracy_test_best_model = metrics.accuracy_score(y_test, prediction_test)\n",
    "from sklearn.metrics import confusion_matrix\n",
    "confusion_matrix(y_test,prediction_test)"
   ]
  },
  {
   "cell_type": "code",
   "execution_count": 169,
   "id": "6089ccc1",
   "metadata": {},
   "outputs": [
    {
     "name": "stdout",
     "output_type": "stream",
     "text": [
      "Precision is 0.6547464239271782\n",
      "Recall is 0.3797134238310709\n"
     ]
    }
   ],
   "source": [
    "from sklearn.metrics import precision_score,recall_score\n",
    "print(\"Precision is\",precision_score(y_test, prediction_test))\n",
    "print(\"Recall is\",recall_score(y_test, prediction_test))"
   ]
  },
  {
   "cell_type": "code",
   "execution_count": 174,
   "id": "1748cfc1",
   "metadata": {},
   "outputs": [
    {
     "name": "stdout",
     "output_type": "stream",
     "text": [
      "Number of positive examples = 6188\n",
      "Number of negative examples = 57397\n",
      "Number of examples where baseline is correct = 24599\n",
      "Baseline accuracy = 0.9026824703680599\n",
      "Accuracy on Test Set is: 0.9201497192763568\n",
      "%Improvement on Baseline Accuracy by Gradient Boosted Tree is: 1.935038009675183\n",
      "F1 score on Test Set is: 0.4806682577565633\n"
     ]
    }
   ],
   "source": [
    "# y_train is 0 or 1.\n",
    "print('Number of positive examples =', len(y_train[y_train==1]))\n",
    "print('Number of negative examples =', len(y_train[y_train==0]))\n",
    "\n",
    "negative_examples_in_test = len(y_test[y_test==0])\n",
    "total_examples_in_test = len(y_test)\n",
    "\n",
    "print('Number of examples where baseline is correct =', negative_examples_in_test)\n",
    "print('Baseline accuracy =', negative_examples_in_test * 1.0 / total_examples_in_test)\n",
    "print('Accuracy on Test Set is:',metrics.accuracy_score(y_test, prediction_test))\n",
    "\n",
    "print(\"%Improvement on Baseline Accuracy by Gradient Boosted Tree is:\",(metrics.accuracy_score(y_test, prediction_test)/(negative_examples_in_test * 1.0 / total_examples_in_test)-1)*100)\n",
    "print('F1 score on Test Set is:',f1_score(y_test,prediction_test))\n"
   ]
  },
  {
   "cell_type": "code",
   "execution_count": 176,
   "id": "ee77846f",
   "metadata": {},
   "outputs": [
    {
     "data": {
      "text/plain": [
       "Text(0, 0.5, 'Feature Importance Score')"
      ]
     },
     "execution_count": 176,
     "metadata": {},
     "output_type": "execute_result"
    },
    {
     "data": {
      "image/png": "[encoded data removed]",
      "text/plain": [
       "<Figure size 432x288 with 1 Axes>"
      ]
     },
     "metadata": {
      "needs_background": "light"
     },
     "output_type": "display_data"
    }
   ],
   "source": [
    "predictors=list(X_train)\n",
    "feat_imp = pd.Series(model.feature_importances_, predictors).sort_values(ascending=False)\n",
    "feat_imp.plot(kind='bar', title='Importance of Features')\n",
    "plt.ylabel('Feature Importance Score')"
   ]
  }
 ],
 "metadata": {
  "kernelspec": {
   "display_name": "Python 3 (ipykernel)",
   "language": "python",
   "name": "python3"
  },
  "language_info": {
   "codemirror_mode": {
    "name": "ipython",
    "version": 3
   },
   "file_extension": ".py",
   "mimetype": "text/x-python",
   "name": "python",
   "nbconvert_exporter": "python",
   "pygments_lexer": "ipython3",
   "version": "3.9.12"
  }
 },
 "nbformat": 4,
 "nbformat_minor": 5
}
